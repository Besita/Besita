{
  "nbformat": 4,
  "nbformat_minor": 0,
  "metadata": {
    "colab": {
      "name": "digit_recogniser_kaggle.ipynb",
      "provenance": [],
      "authorship_tag": "ABX9TyMPaIVUFvPYQDMVEE8t+DXH",
      "include_colab_link": true
    },
    "kernelspec": {
      "name": "python3",
      "display_name": "Python 3"
    },
    "language_info": {
      "name": "python"
    },
    "accelerator": "GPU",
    "gpuClass": "standard"
  },
  "cells": [
    {
      "cell_type": "markdown",
      "metadata": {
        "id": "view-in-github",
        "colab_type": "text"
      },
      "source": [
        "<a href=\"https://colab.research.google.com/github/Besita/Besita/blob/main/digit_recogniser_kaggle.ipynb\" target=\"_parent\"><img src=\"https://colab.research.google.com/assets/colab-badge.svg\" alt=\"Open In Colab\"/></a>"
      ]
    },
    {
      "cell_type": "code",
      "execution_count": null,
      "metadata": {
        "id": "9mMm5Sa-lRMQ"
      },
      "outputs": [],
      "source": [
        "import pandas as pd\n",
        "import numpy as np\n",
        "import tensorflow as tf\n",
        "import matplotlib.pyplot as plt"
      ]
    },
    {
      "cell_type": "code",
      "source": [
        "tf.random.set_seed(13)"
      ],
      "metadata": {
        "id": "QW-yQYGCmGG5"
      },
      "execution_count": null,
      "outputs": []
    },
    {
      "cell_type": "markdown",
      "source": [
        ""
      ],
      "metadata": {
        "id": "NQ76ZmFKVuH5"
      }
    },
    {
      "cell_type": "code",
      "source": [
        "#from google.colab import files\n",
        "#uploaded=files.upload()\n",
        "\n",
        "train_df = pd.read_csv('train.csv')\n",
        "test_df = pd.read_csv('test.csv')\n",
        "\n"
      ],
      "metadata": {
        "id": "0RsQEtQymGTO",
        "colab": {
          "base_uri": "https://localhost:8080/",
          "height": 409
        },
        "outputId": "e04104c4-fba1-4914-ba5d-c92de4a6035f"
      },
      "execution_count": null,
      "outputs": [
        {
          "output_type": "error",
          "ename": "FileNotFoundError",
          "evalue": "ignored",
          "traceback": [
            "\u001b[0;31m---------------------------------------------------------------------------\u001b[0m",
            "\u001b[0;31mFileNotFoundError\u001b[0m                         Traceback (most recent call last)",
            "\u001b[0;32m<ipython-input-5-508756107843>\u001b[0m in \u001b[0;36m<module>\u001b[0;34m\u001b[0m\n\u001b[1;32m      2\u001b[0m \u001b[0;31m#uploaded=files.upload()\u001b[0m\u001b[0;34m\u001b[0m\u001b[0;34m\u001b[0m\u001b[0;34m\u001b[0m\u001b[0m\n\u001b[1;32m      3\u001b[0m \u001b[0;34m\u001b[0m\u001b[0m\n\u001b[0;32m----> 4\u001b[0;31m \u001b[0mtrain_df\u001b[0m \u001b[0;34m=\u001b[0m \u001b[0mpd\u001b[0m\u001b[0;34m.\u001b[0m\u001b[0mread_csv\u001b[0m\u001b[0;34m(\u001b[0m\u001b[0;34m'train.csv'\u001b[0m\u001b[0;34m)\u001b[0m\u001b[0;34m\u001b[0m\u001b[0;34m\u001b[0m\u001b[0m\n\u001b[0m\u001b[1;32m      5\u001b[0m \u001b[0mtest_df\u001b[0m \u001b[0;34m=\u001b[0m \u001b[0mpd\u001b[0m\u001b[0;34m.\u001b[0m\u001b[0mread_csv\u001b[0m\u001b[0;34m(\u001b[0m\u001b[0;34m'test.csv'\u001b[0m\u001b[0;34m)\u001b[0m\u001b[0;34m\u001b[0m\u001b[0;34m\u001b[0m\u001b[0m\n\u001b[1;32m      6\u001b[0m \u001b[0;34m\u001b[0m\u001b[0m\n",
            "\u001b[0;32m/usr/local/lib/python3.7/dist-packages/pandas/util/_decorators.py\u001b[0m in \u001b[0;36mwrapper\u001b[0;34m(*args, **kwargs)\u001b[0m\n\u001b[1;32m    309\u001b[0m                     \u001b[0mstacklevel\u001b[0m\u001b[0;34m=\u001b[0m\u001b[0mstacklevel\u001b[0m\u001b[0;34m,\u001b[0m\u001b[0;34m\u001b[0m\u001b[0;34m\u001b[0m\u001b[0m\n\u001b[1;32m    310\u001b[0m                 )\n\u001b[0;32m--> 311\u001b[0;31m             \u001b[0;32mreturn\u001b[0m \u001b[0mfunc\u001b[0m\u001b[0;34m(\u001b[0m\u001b[0;34m*\u001b[0m\u001b[0margs\u001b[0m\u001b[0;34m,\u001b[0m \u001b[0;34m**\u001b[0m\u001b[0mkwargs\u001b[0m\u001b[0;34m)\u001b[0m\u001b[0;34m\u001b[0m\u001b[0;34m\u001b[0m\u001b[0m\n\u001b[0m\u001b[1;32m    312\u001b[0m \u001b[0;34m\u001b[0m\u001b[0m\n\u001b[1;32m    313\u001b[0m         \u001b[0;32mreturn\u001b[0m \u001b[0mwrapper\u001b[0m\u001b[0;34m\u001b[0m\u001b[0;34m\u001b[0m\u001b[0m\n",
            "\u001b[0;32m/usr/local/lib/python3.7/dist-packages/pandas/io/parsers/readers.py\u001b[0m in \u001b[0;36mread_csv\u001b[0;34m(filepath_or_buffer, sep, delimiter, header, names, index_col, usecols, squeeze, prefix, mangle_dupe_cols, dtype, engine, converters, true_values, false_values, skipinitialspace, skiprows, skipfooter, nrows, na_values, keep_default_na, na_filter, verbose, skip_blank_lines, parse_dates, infer_datetime_format, keep_date_col, date_parser, dayfirst, cache_dates, iterator, chunksize, compression, thousands, decimal, lineterminator, quotechar, quoting, doublequote, escapechar, comment, encoding, encoding_errors, dialect, error_bad_lines, warn_bad_lines, on_bad_lines, delim_whitespace, low_memory, memory_map, float_precision, storage_options)\u001b[0m\n\u001b[1;32m    584\u001b[0m     \u001b[0mkwds\u001b[0m\u001b[0;34m.\u001b[0m\u001b[0mupdate\u001b[0m\u001b[0;34m(\u001b[0m\u001b[0mkwds_defaults\u001b[0m\u001b[0;34m)\u001b[0m\u001b[0;34m\u001b[0m\u001b[0;34m\u001b[0m\u001b[0m\n\u001b[1;32m    585\u001b[0m \u001b[0;34m\u001b[0m\u001b[0m\n\u001b[0;32m--> 586\u001b[0;31m     \u001b[0;32mreturn\u001b[0m \u001b[0m_read\u001b[0m\u001b[0;34m(\u001b[0m\u001b[0mfilepath_or_buffer\u001b[0m\u001b[0;34m,\u001b[0m \u001b[0mkwds\u001b[0m\u001b[0;34m)\u001b[0m\u001b[0;34m\u001b[0m\u001b[0;34m\u001b[0m\u001b[0m\n\u001b[0m\u001b[1;32m    587\u001b[0m \u001b[0;34m\u001b[0m\u001b[0m\n\u001b[1;32m    588\u001b[0m \u001b[0;34m\u001b[0m\u001b[0m\n",
            "\u001b[0;32m/usr/local/lib/python3.7/dist-packages/pandas/io/parsers/readers.py\u001b[0m in \u001b[0;36m_read\u001b[0;34m(filepath_or_buffer, kwds)\u001b[0m\n\u001b[1;32m    480\u001b[0m \u001b[0;34m\u001b[0m\u001b[0m\n\u001b[1;32m    481\u001b[0m     \u001b[0;31m# Create the parser.\u001b[0m\u001b[0;34m\u001b[0m\u001b[0;34m\u001b[0m\u001b[0;34m\u001b[0m\u001b[0m\n\u001b[0;32m--> 482\u001b[0;31m     \u001b[0mparser\u001b[0m \u001b[0;34m=\u001b[0m \u001b[0mTextFileReader\u001b[0m\u001b[0;34m(\u001b[0m\u001b[0mfilepath_or_buffer\u001b[0m\u001b[0;34m,\u001b[0m \u001b[0;34m**\u001b[0m\u001b[0mkwds\u001b[0m\u001b[0;34m)\u001b[0m\u001b[0;34m\u001b[0m\u001b[0;34m\u001b[0m\u001b[0m\n\u001b[0m\u001b[1;32m    483\u001b[0m \u001b[0;34m\u001b[0m\u001b[0m\n\u001b[1;32m    484\u001b[0m     \u001b[0;32mif\u001b[0m \u001b[0mchunksize\u001b[0m \u001b[0;32mor\u001b[0m \u001b[0miterator\u001b[0m\u001b[0;34m:\u001b[0m\u001b[0;34m\u001b[0m\u001b[0;34m\u001b[0m\u001b[0m\n",
            "\u001b[0;32m/usr/local/lib/python3.7/dist-packages/pandas/io/parsers/readers.py\u001b[0m in \u001b[0;36m__init__\u001b[0;34m(self, f, engine, **kwds)\u001b[0m\n\u001b[1;32m    809\u001b[0m             \u001b[0mself\u001b[0m\u001b[0;34m.\u001b[0m\u001b[0moptions\u001b[0m\u001b[0;34m[\u001b[0m\u001b[0;34m\"has_index_names\"\u001b[0m\u001b[0;34m]\u001b[0m \u001b[0;34m=\u001b[0m \u001b[0mkwds\u001b[0m\u001b[0;34m[\u001b[0m\u001b[0;34m\"has_index_names\"\u001b[0m\u001b[0;34m]\u001b[0m\u001b[0;34m\u001b[0m\u001b[0;34m\u001b[0m\u001b[0m\n\u001b[1;32m    810\u001b[0m \u001b[0;34m\u001b[0m\u001b[0m\n\u001b[0;32m--> 811\u001b[0;31m         \u001b[0mself\u001b[0m\u001b[0;34m.\u001b[0m\u001b[0m_engine\u001b[0m \u001b[0;34m=\u001b[0m \u001b[0mself\u001b[0m\u001b[0;34m.\u001b[0m\u001b[0m_make_engine\u001b[0m\u001b[0;34m(\u001b[0m\u001b[0mself\u001b[0m\u001b[0;34m.\u001b[0m\u001b[0mengine\u001b[0m\u001b[0;34m)\u001b[0m\u001b[0;34m\u001b[0m\u001b[0;34m\u001b[0m\u001b[0m\n\u001b[0m\u001b[1;32m    812\u001b[0m \u001b[0;34m\u001b[0m\u001b[0m\n\u001b[1;32m    813\u001b[0m     \u001b[0;32mdef\u001b[0m \u001b[0mclose\u001b[0m\u001b[0;34m(\u001b[0m\u001b[0mself\u001b[0m\u001b[0;34m)\u001b[0m\u001b[0;34m:\u001b[0m\u001b[0;34m\u001b[0m\u001b[0;34m\u001b[0m\u001b[0m\n",
            "\u001b[0;32m/usr/local/lib/python3.7/dist-packages/pandas/io/parsers/readers.py\u001b[0m in \u001b[0;36m_make_engine\u001b[0;34m(self, engine)\u001b[0m\n\u001b[1;32m   1038\u001b[0m             )\n\u001b[1;32m   1039\u001b[0m         \u001b[0;31m# error: Too many arguments for \"ParserBase\"\u001b[0m\u001b[0;34m\u001b[0m\u001b[0;34m\u001b[0m\u001b[0;34m\u001b[0m\u001b[0m\n\u001b[0;32m-> 1040\u001b[0;31m         \u001b[0;32mreturn\u001b[0m \u001b[0mmapping\u001b[0m\u001b[0;34m[\u001b[0m\u001b[0mengine\u001b[0m\u001b[0;34m]\u001b[0m\u001b[0;34m(\u001b[0m\u001b[0mself\u001b[0m\u001b[0;34m.\u001b[0m\u001b[0mf\u001b[0m\u001b[0;34m,\u001b[0m \u001b[0;34m**\u001b[0m\u001b[0mself\u001b[0m\u001b[0;34m.\u001b[0m\u001b[0moptions\u001b[0m\u001b[0;34m)\u001b[0m  \u001b[0;31m# type: ignore[call-arg]\u001b[0m\u001b[0;34m\u001b[0m\u001b[0;34m\u001b[0m\u001b[0m\n\u001b[0m\u001b[1;32m   1041\u001b[0m \u001b[0;34m\u001b[0m\u001b[0m\n\u001b[1;32m   1042\u001b[0m     \u001b[0;32mdef\u001b[0m \u001b[0m_failover_to_python\u001b[0m\u001b[0;34m(\u001b[0m\u001b[0mself\u001b[0m\u001b[0;34m)\u001b[0m\u001b[0;34m:\u001b[0m\u001b[0;34m\u001b[0m\u001b[0;34m\u001b[0m\u001b[0m\n",
            "\u001b[0;32m/usr/local/lib/python3.7/dist-packages/pandas/io/parsers/c_parser_wrapper.py\u001b[0m in \u001b[0;36m__init__\u001b[0;34m(self, src, **kwds)\u001b[0m\n\u001b[1;32m     49\u001b[0m \u001b[0;34m\u001b[0m\u001b[0m\n\u001b[1;32m     50\u001b[0m         \u001b[0;31m# open handles\u001b[0m\u001b[0;34m\u001b[0m\u001b[0;34m\u001b[0m\u001b[0;34m\u001b[0m\u001b[0m\n\u001b[0;32m---> 51\u001b[0;31m         \u001b[0mself\u001b[0m\u001b[0;34m.\u001b[0m\u001b[0m_open_handles\u001b[0m\u001b[0;34m(\u001b[0m\u001b[0msrc\u001b[0m\u001b[0;34m,\u001b[0m \u001b[0mkwds\u001b[0m\u001b[0;34m)\u001b[0m\u001b[0;34m\u001b[0m\u001b[0;34m\u001b[0m\u001b[0m\n\u001b[0m\u001b[1;32m     52\u001b[0m         \u001b[0;32massert\u001b[0m \u001b[0mself\u001b[0m\u001b[0;34m.\u001b[0m\u001b[0mhandles\u001b[0m \u001b[0;32mis\u001b[0m \u001b[0;32mnot\u001b[0m \u001b[0;32mNone\u001b[0m\u001b[0;34m\u001b[0m\u001b[0;34m\u001b[0m\u001b[0m\n\u001b[1;32m     53\u001b[0m \u001b[0;34m\u001b[0m\u001b[0m\n",
            "\u001b[0;32m/usr/local/lib/python3.7/dist-packages/pandas/io/parsers/base_parser.py\u001b[0m in \u001b[0;36m_open_handles\u001b[0;34m(self, src, kwds)\u001b[0m\n\u001b[1;32m    227\u001b[0m             \u001b[0mmemory_map\u001b[0m\u001b[0;34m=\u001b[0m\u001b[0mkwds\u001b[0m\u001b[0;34m.\u001b[0m\u001b[0mget\u001b[0m\u001b[0;34m(\u001b[0m\u001b[0;34m\"memory_map\"\u001b[0m\u001b[0;34m,\u001b[0m \u001b[0;32mFalse\u001b[0m\u001b[0;34m)\u001b[0m\u001b[0;34m,\u001b[0m\u001b[0;34m\u001b[0m\u001b[0;34m\u001b[0m\u001b[0m\n\u001b[1;32m    228\u001b[0m             \u001b[0mstorage_options\u001b[0m\u001b[0;34m=\u001b[0m\u001b[0mkwds\u001b[0m\u001b[0;34m.\u001b[0m\u001b[0mget\u001b[0m\u001b[0;34m(\u001b[0m\u001b[0;34m\"storage_options\"\u001b[0m\u001b[0;34m,\u001b[0m \u001b[0;32mNone\u001b[0m\u001b[0;34m)\u001b[0m\u001b[0;34m,\u001b[0m\u001b[0;34m\u001b[0m\u001b[0;34m\u001b[0m\u001b[0m\n\u001b[0;32m--> 229\u001b[0;31m             \u001b[0merrors\u001b[0m\u001b[0;34m=\u001b[0m\u001b[0mkwds\u001b[0m\u001b[0;34m.\u001b[0m\u001b[0mget\u001b[0m\u001b[0;34m(\u001b[0m\u001b[0;34m\"encoding_errors\"\u001b[0m\u001b[0;34m,\u001b[0m \u001b[0;34m\"strict\"\u001b[0m\u001b[0;34m)\u001b[0m\u001b[0;34m,\u001b[0m\u001b[0;34m\u001b[0m\u001b[0;34m\u001b[0m\u001b[0m\n\u001b[0m\u001b[1;32m    230\u001b[0m         )\n\u001b[1;32m    231\u001b[0m \u001b[0;34m\u001b[0m\u001b[0m\n",
            "\u001b[0;32m/usr/local/lib/python3.7/dist-packages/pandas/io/common.py\u001b[0m in \u001b[0;36mget_handle\u001b[0;34m(path_or_buf, mode, encoding, compression, memory_map, is_text, errors, storage_options)\u001b[0m\n\u001b[1;32m    705\u001b[0m                 \u001b[0mencoding\u001b[0m\u001b[0;34m=\u001b[0m\u001b[0mioargs\u001b[0m\u001b[0;34m.\u001b[0m\u001b[0mencoding\u001b[0m\u001b[0;34m,\u001b[0m\u001b[0;34m\u001b[0m\u001b[0;34m\u001b[0m\u001b[0m\n\u001b[1;32m    706\u001b[0m                 \u001b[0merrors\u001b[0m\u001b[0;34m=\u001b[0m\u001b[0merrors\u001b[0m\u001b[0;34m,\u001b[0m\u001b[0;34m\u001b[0m\u001b[0;34m\u001b[0m\u001b[0m\n\u001b[0;32m--> 707\u001b[0;31m                 \u001b[0mnewline\u001b[0m\u001b[0;34m=\u001b[0m\u001b[0;34m\"\"\u001b[0m\u001b[0;34m,\u001b[0m\u001b[0;34m\u001b[0m\u001b[0;34m\u001b[0m\u001b[0m\n\u001b[0m\u001b[1;32m    708\u001b[0m             )\n\u001b[1;32m    709\u001b[0m         \u001b[0;32melse\u001b[0m\u001b[0;34m:\u001b[0m\u001b[0;34m\u001b[0m\u001b[0;34m\u001b[0m\u001b[0m\n",
            "\u001b[0;31mFileNotFoundError\u001b[0m: [Errno 2] No such file or directory: 'train.csv'"
          ]
        }
      ]
    },
    {
      "cell_type": "code",
      "source": [
        "Y=train_df['label']\n",
        "X1=train_df.drop('label',axis=1)\n",
        "print(np.shape(X1))\n",
        "X1=np.array(X1).reshape(-1,28,28) \n",
        "print(np.shape(X1))\n",
        "X = np.array(X1).reshape(-1,28,28,1) / 255.0\n",
        "#test = np.array(test_df).reshape(-1, 28, 28, 1) / 255.0\n",
        "print(np.shape(X),np.shape(Y))\n",
        "print(np.shape(test_df))"
      ],
      "metadata": {
        "id": "OHFPgpalr1m5",
        "colab": {
          "base_uri": "https://localhost:8080/"
        },
        "outputId": "6883ef70-755b-4f55-a227-f605a3b25480"
      },
      "execution_count": null,
      "outputs": [
        {
          "output_type": "stream",
          "name": "stdout",
          "text": [
            "(42000, 784)\n",
            "(42000, 28, 28)\n",
            "(42000, 28, 28, 1) (42000,)\n",
            "(28000, 784)\n"
          ]
        }
      ]
    },
    {
      "cell_type": "code",
      "source": [
        "# plot first few images\n",
        "for i in range(9):\n",
        "  # define subplot\n",
        "  plt.subplot(330 + 1 + i)\n",
        "  # plot raw pixel data\n",
        "  plt.imshow(X1[i], cmap=plt.get_cmap('gray'))\n",
        "  plt.title(Y[i])\n",
        "  plt.axis(False)\n",
        "# show the figure\n",
        "plt.show()"
      ],
      "metadata": {
        "colab": {
          "base_uri": "https://localhost:8080/",
          "height": 264
        },
        "id": "IRAbH6NztkWn",
        "outputId": "c9d23204-b8ce-4093-d66c-2b94b0468b47"
      },
      "execution_count": null,
      "outputs": [
        {
          "output_type": "display_data",
          "data": {
            "text/plain": [
              "<Figure size 432x288 with 9 Axes>"
            ],
            "image/png": "[encoded data removed]"
          },
          "metadata": {
            "needs_background": "light"
          }
        }
      ]
    },
    {
      "cell_type": "code",
      "source": [
        "from tensorflow.keras.preprocessing.image import ImageDataGenerator\n",
        "gen = ImageDataGenerator(validation_split = 0.2)"
      ],
      "metadata": {
        "id": "fFBjznx30sbq"
      },
      "execution_count": null,
      "outputs": []
    },
    {
      "cell_type": "code",
      "source": [
        "def Charts(history):\n",
        "    plt.plot(history.history['loss'])\n",
        "    plt.plot(history.history['val_loss'])\n",
        "    plt.title('model loss')\n",
        "    plt.ylabel('loss')\n",
        "    plt.xlabel('epoch')\n",
        "    plt.legend(['train', 'val'], loc='upper left')\n",
        "    plt.show()\n",
        "    \n",
        "    plt.plot(history.history['accuracy'])\n",
        "    plt.plot(history.history['val_accuracy'])\n",
        "    plt.title('model accuracy')\n",
        "    plt.ylabel('accuracy')\n",
        "    plt.xlabel('epoch')\n",
        "    plt.legend(['train', 'val'], loc='upper left')\n",
        "    plt.show()"
      ],
      "metadata": {
        "id": "7ORj4GlE1Z6_"
      },
      "execution_count": null,
      "outputs": []
    },
    {
      "cell_type": "code",
      "source": [
        "from tensorflow.keras import Sequential\n",
        "from tensorflow.keras.layers import Conv2D, MaxPool2D, BatchNormalization, Dense, Dropout, Flatten\n",
        "from tensorflow.keras.optimizers import Adam\n",
        "model = Sequential()\n",
        "\n",
        "model.add(Conv2D(32, 3, padding = 'same', kernel_initializer = 'he_normal', activation = 'relu', input_shape = (28,28,1)))\n",
        "model.add(MaxPool2D(2))\n",
        "model.add(BatchNormalization())\n",
        "\n",
        "model.add(Conv2D(64, 3, padding = 'same', kernel_initializer = 'he_normal', activation = 'relu'))\n",
        "model.add(MaxPool2D(2))\n",
        "model.add(BatchNormalization())\n",
        "\n",
        "model.add(Conv2D(128, 3, padding = 'same', kernel_initializer = 'he_normal', activation = 'relu'))\n",
        "model.add(MaxPool2D(2))\n",
        "model.add(BatchNormalization())\n",
        "\n",
        "model.add(Flatten())\n",
        "model.add(Dropout(0.3))\n",
        "\n",
        "model.add(Dense(128, kernel_initializer = 'he_normal', activation = 'relu'))\n",
        "model.add(Dropout(0.2))\n",
        "model.add(Dense(10, activation = 'softmax'))\n",
        "\n",
        "model.summary()\n",
        "model.compile(optimizer = Adam(learning_rate = 3e-4), loss = 'sparse_categorical_crossentropy' , metrics = ['accuracy'])"
      ],
      "metadata": {
        "colab": {
          "base_uri": "https://localhost:8080/"
        },
        "id": "8ThibeNi1bHs",
        "outputId": "866603a3-cdef-4c21-dad2-2c3c3f8194be"
      },
      "execution_count": null,
      "outputs": [
        {
          "output_type": "stream",
          "name": "stdout",
          "text": [
            "Model: \"sequential\"\n",
            "_________________________________________________________________\n",
            " Layer (type)                Output Shape              Param #   \n",
            "=================================================================\n",
            " conv2d (Conv2D)             (None, 28, 28, 32)        320       \n",
            "                                                                 \n",
            " max_pooling2d (MaxPooling2D  (None, 14, 14, 32)       0         \n",
            " )                                                               \n",
            "                                                                 \n",
            " batch_normalization (BatchN  (None, 14, 14, 32)       128       \n",
            " ormalization)                                                   \n",
            "                                                                 \n",
            " conv2d_1 (Conv2D)           (None, 14, 14, 64)        18496     \n",
            "                                                                 \n",
            " max_pooling2d_1 (MaxPooling  (None, 7, 7, 64)         0         \n",
            " 2D)                                                             \n",
            "                                                                 \n",
            " batch_normalization_1 (Batc  (None, 7, 7, 64)         256       \n",
            " hNormalization)                                                 \n",
            "                                                                 \n",
            " conv2d_2 (Conv2D)           (None, 7, 7, 128)         73856     \n",
            "                                                                 \n",
            " max_pooling2d_2 (MaxPooling  (None, 3, 3, 128)        0         \n",
            " 2D)                                                             \n",
            "                                                                 \n",
            " batch_normalization_2 (Batc  (None, 3, 3, 128)        512       \n",
            " hNormalization)                                                 \n",
            "                                                                 \n",
            " flatten (Flatten)           (None, 1152)              0         \n",
            "                                                                 \n",
            " dropout (Dropout)           (None, 1152)              0         \n",
            "                                                                 \n",
            " dense (Dense)               (None, 128)               147584    \n",
            "                                                                 \n",
            " dropout_1 (Dropout)         (None, 128)               0         \n",
            "                                                                 \n",
            " dense_1 (Dense)             (None, 10)                1290      \n",
            "                                                                 \n",
            "=================================================================\n",
            "Total params: 242,442\n",
            "Trainable params: 241,994\n",
            "Non-trainable params: 448\n",
            "_________________________________________________________________\n"
          ]
        }
      ]
    },
    {
      "cell_type": "code",
      "source": [
        "class CustomCallbacks(tf.keras.callbacks.Callback):\n",
        "    def on_epoch_end(self, epoch, logs = None):\n",
        "        acc = logs['accuracy']\n",
        "        val_acc = logs['val_accuracy']\n",
        "        if acc >= 0.999 and val_acc >= 0.99995:\n",
        "            self.model.stop_training = True"
      ],
      "metadata": {
        "id": "4dE3fY_lVB_s"
      },
      "execution_count": null,
      "outputs": []
    },
    {
      "cell_type": "code",
      "source": [
        "history = model.fit(gen.flow(X, y = Y, subset = 'training', batch_size = 1600), validation_data=gen.flow(X, y = Y, subset = 'validation', batch_size = 1600),\n",
        "                    epochs = 100, verbose = 1, callbacks = [CustomCallbacks()])\n",
        "Charts(history)"
      ],
      "metadata": {
        "colab": {
          "base_uri": "https://localhost:8080/",
          "height": 1000
        },
        "id": "pPelxtFCVGzf",
        "outputId": "82a4ce5a-e232-4eae-f9a2-573b80cc99e5"
      },
      "execution_count": null,
      "outputs": [
        {
          "output_type": "stream",
          "name": "stdout",
          "text": [
            "Epoch 1/50\n",
            "21/21 [==============================] - 14s 87ms/step - loss: 1.5676 - accuracy: 0.5104 - val_loss: 1.5990 - val_accuracy: 0.5157\n",
            "Epoch 2/50\n",
            "21/21 [==============================] - 1s 58ms/step - loss: 0.4623 - accuracy: 0.8527 - val_loss: 0.9680 - val_accuracy: 0.7100\n",
            "Epoch 3/50\n",
            "21/21 [==============================] - 1s 58ms/step - loss: 0.2722 - accuracy: 0.9134 - val_loss: 0.5609 - val_accuracy: 0.8779\n",
            "Epoch 4/50\n",
            "21/21 [==============================] - 1s 59ms/step - loss: 0.2017 - accuracy: 0.9372 - val_loss: 0.4039 - val_accuracy: 0.9133\n",
            "Epoch 5/50\n",
            "21/21 [==============================] - 1s 58ms/step - loss: 0.1635 - accuracy: 0.9493 - val_loss: 0.3436 - val_accuracy: 0.9167\n",
            "Epoch 6/50\n",
            "21/21 [==============================] - 1s 58ms/step - loss: 0.1347 - accuracy: 0.9583 - val_loss: 0.2957 - val_accuracy: 0.9254\n",
            "Epoch 7/50\n",
            "21/21 [==============================] - 1s 56ms/step - loss: 0.1201 - accuracy: 0.9628 - val_loss: 0.2745 - val_accuracy: 0.9229\n",
            "Epoch 8/50\n",
            "21/21 [==============================] - 1s 58ms/step - loss: 0.1055 - accuracy: 0.9675 - val_loss: 0.2443 - val_accuracy: 0.9308\n",
            "Epoch 9/50\n",
            "21/21 [==============================] - 1s 58ms/step - loss: 0.0958 - accuracy: 0.9705 - val_loss: 0.2135 - val_accuracy: 0.9362\n",
            "Epoch 10/50\n",
            "21/21 [==============================] - 1s 58ms/step - loss: 0.0849 - accuracy: 0.9725 - val_loss: 0.1790 - val_accuracy: 0.9463\n",
            "Epoch 11/50\n",
            "21/21 [==============================] - 1s 58ms/step - loss: 0.0788 - accuracy: 0.9751 - val_loss: 0.1562 - val_accuracy: 0.9532\n",
            "Epoch 12/50\n",
            "21/21 [==============================] - 1s 58ms/step - loss: 0.0711 - accuracy: 0.9776 - val_loss: 0.1423 - val_accuracy: 0.9558\n",
            "Epoch 13/50\n",
            "21/21 [==============================] - 1s 58ms/step - loss: 0.0668 - accuracy: 0.9785 - val_loss: 0.1153 - val_accuracy: 0.9657\n",
            "Epoch 14/50\n",
            "21/21 [==============================] - 1s 58ms/step - loss: 0.0620 - accuracy: 0.9799 - val_loss: 0.1088 - val_accuracy: 0.9648\n",
            "Epoch 15/50\n",
            "21/21 [==============================] - 1s 57ms/step - loss: 0.0572 - accuracy: 0.9817 - val_loss: 0.0978 - val_accuracy: 0.9685\n",
            "Epoch 16/50\n",
            "21/21 [==============================] - 1s 58ms/step - loss: 0.0534 - accuracy: 0.9830 - val_loss: 0.0870 - val_accuracy: 0.9720\n",
            "Epoch 17/50\n",
            "21/21 [==============================] - 1s 58ms/step - loss: 0.0498 - accuracy: 0.9843 - val_loss: 0.0850 - val_accuracy: 0.9715\n",
            "Epoch 18/50\n",
            "21/21 [==============================] - 1s 59ms/step - loss: 0.0463 - accuracy: 0.9855 - val_loss: 0.0686 - val_accuracy: 0.9785\n",
            "Epoch 19/50\n",
            "21/21 [==============================] - 1s 59ms/step - loss: 0.0448 - accuracy: 0.9862 - val_loss: 0.0629 - val_accuracy: 0.9794\n",
            "Epoch 20/50\n",
            "21/21 [==============================] - 1s 59ms/step - loss: 0.0405 - accuracy: 0.9867 - val_loss: 0.0595 - val_accuracy: 0.9802\n",
            "Epoch 21/50\n",
            "21/21 [==============================] - 1s 58ms/step - loss: 0.0384 - accuracy: 0.9880 - val_loss: 0.0544 - val_accuracy: 0.9818\n",
            "Epoch 22/50\n",
            "21/21 [==============================] - 1s 59ms/step - loss: 0.0361 - accuracy: 0.9893 - val_loss: 0.0526 - val_accuracy: 0.9829\n",
            "Epoch 23/50\n",
            "21/21 [==============================] - 1s 58ms/step - loss: 0.0327 - accuracy: 0.9896 - val_loss: 0.0504 - val_accuracy: 0.9835\n",
            "Epoch 24/50\n",
            "21/21 [==============================] - 1s 60ms/step - loss: 0.0321 - accuracy: 0.9904 - val_loss: 0.0452 - val_accuracy: 0.9844\n",
            "Epoch 25/50\n",
            "21/21 [==============================] - 1s 60ms/step - loss: 0.0304 - accuracy: 0.9907 - val_loss: 0.0434 - val_accuracy: 0.9837\n",
            "Epoch 26/50\n",
            "21/21 [==============================] - 1s 59ms/step - loss: 0.0286 - accuracy: 0.9904 - val_loss: 0.0427 - val_accuracy: 0.9846\n",
            "Epoch 27/50\n",
            "21/21 [==============================] - 1s 59ms/step - loss: 0.0257 - accuracy: 0.9924 - val_loss: 0.0420 - val_accuracy: 0.9861\n",
            "Epoch 28/50\n",
            "21/21 [==============================] - 1s 58ms/step - loss: 0.0246 - accuracy: 0.9925 - val_loss: 0.0408 - val_accuracy: 0.9857\n",
            "Epoch 29/50\n",
            "21/21 [==============================] - 1s 60ms/step - loss: 0.0247 - accuracy: 0.9919 - val_loss: 0.0393 - val_accuracy: 0.9861\n",
            "Epoch 30/50\n",
            "21/21 [==============================] - 1s 59ms/step - loss: 0.0229 - accuracy: 0.9926 - val_loss: 0.0377 - val_accuracy: 0.9870\n",
            "Epoch 31/50\n",
            "21/21 [==============================] - 1s 60ms/step - loss: 0.0205 - accuracy: 0.9938 - val_loss: 0.0380 - val_accuracy: 0.9864\n",
            "Epoch 32/50\n",
            "21/21 [==============================] - 1s 59ms/step - loss: 0.0209 - accuracy: 0.9935 - val_loss: 0.0372 - val_accuracy: 0.9863\n",
            "Epoch 33/50\n",
            "21/21 [==============================] - 1s 59ms/step - loss: 0.0198 - accuracy: 0.9939 - val_loss: 0.0376 - val_accuracy: 0.9873\n",
            "Epoch 34/50\n",
            "21/21 [==============================] - 1s 59ms/step - loss: 0.0174 - accuracy: 0.9952 - val_loss: 0.0365 - val_accuracy: 0.9875\n",
            "Epoch 35/50\n",
            "21/21 [==============================] - 1s 61ms/step - loss: 0.0193 - accuracy: 0.9938 - val_loss: 0.0367 - val_accuracy: 0.9870\n",
            "Epoch 36/50\n",
            "21/21 [==============================] - 1s 59ms/step - loss: 0.0176 - accuracy: 0.9946 - val_loss: 0.0366 - val_accuracy: 0.9877\n",
            "Epoch 37/50\n",
            "21/21 [==============================] - 1s 59ms/step - loss: 0.0171 - accuracy: 0.9948 - val_loss: 0.0358 - val_accuracy: 0.9874\n",
            "Epoch 38/50\n",
            "21/21 [==============================] - 1s 59ms/step - loss: 0.0156 - accuracy: 0.9952 - val_loss: 0.0368 - val_accuracy: 0.9870\n",
            "Epoch 39/50\n",
            "21/21 [==============================] - 1s 59ms/step - loss: 0.0157 - accuracy: 0.9952 - val_loss: 0.0362 - val_accuracy: 0.9877\n",
            "Epoch 40/50\n",
            "21/21 [==============================] - 1s 59ms/step - loss: 0.0146 - accuracy: 0.9959 - val_loss: 0.0364 - val_accuracy: 0.9877\n",
            "Epoch 41/50\n",
            "21/21 [==============================] - 1s 59ms/step - loss: 0.0142 - accuracy: 0.9956 - val_loss: 0.0364 - val_accuracy: 0.9875\n",
            "Epoch 42/50\n",
            "21/21 [==============================] - 1s 59ms/step - loss: 0.0130 - accuracy: 0.9962 - val_loss: 0.0356 - val_accuracy: 0.9882\n",
            "Epoch 43/50\n",
            "21/21 [==============================] - 1s 59ms/step - loss: 0.0122 - accuracy: 0.9966 - val_loss: 0.0349 - val_accuracy: 0.9877\n",
            "Epoch 44/50\n",
            "21/21 [==============================] - 1s 60ms/step - loss: 0.0133 - accuracy: 0.9958 - val_loss: 0.0347 - val_accuracy: 0.9888\n",
            "Epoch 45/50\n",
            "21/21 [==============================] - 1s 59ms/step - loss: 0.0118 - accuracy: 0.9965 - val_loss: 0.0340 - val_accuracy: 0.9876\n",
            "Epoch 46/50\n",
            "21/21 [==============================] - 1s 59ms/step - loss: 0.0119 - accuracy: 0.9964 - val_loss: 0.0345 - val_accuracy: 0.9882\n",
            "Epoch 47/50\n",
            "21/21 [==============================] - 1s 61ms/step - loss: 0.0103 - accuracy: 0.9971 - val_loss: 0.0346 - val_accuracy: 0.9883\n",
            "Epoch 48/50\n",
            "21/21 [==============================] - 1s 59ms/step - loss: 0.0102 - accuracy: 0.9967 - val_loss: 0.0343 - val_accuracy: 0.9880\n",
            "Epoch 49/50\n",
            "21/21 [==============================] - 1s 59ms/step - loss: 0.0092 - accuracy: 0.9975 - val_loss: 0.0341 - val_accuracy: 0.9886\n",
            "Epoch 50/50\n",
            "21/21 [==============================] - 1s 58ms/step - loss: 0.0097 - accuracy: 0.9972 - val_loss: 0.0337 - val_accuracy: 0.9880\n"
          ]
        },
        {
          "output_type": "display_data",
          "data": {
            "text/plain": [
              "<Figure size 432x288 with 1 Axes>"
            ],
            "image/png": "[encoded data removed]"
          },
          "metadata": {
            "needs_background": "light"
          }
        },
        {
          "output_type": "display_data",
          "data": {
            "text/plain": [
              "<Figure size 432x288 with 1 Axes>"
            ],
            "image/png": "[encoded data removed]"
          },
          "metadata": {
            "needs_background": "light"
          }
        }
      ]
    },
    {
      "cell_type": "code",
      "source": [
        "model.save('model_digitrecogniser.h5')"
      ],
      "metadata": {
        "id": "4xZ0iIbNVHkZ"
      },
      "execution_count": null,
      "outputs": []
    },
    {
      "cell_type": "code",
      "source": [
        "from numpy import argmax\n",
        "from keras.preprocessing.image import load_img\n",
        "from keras.preprocessing.image import img_to_array\n",
        "from keras.models import load_model\n",
        "\n",
        "model = load_model('model_digitrecogniser.h5')\n",
        "\n",
        "test =np.array(test_df).reshape(-1, 28, 28, 1)/255.0\n",
        "pred= model.predict(test)\n",
        "digit=argmax(pred,axis=-1)\n",
        "digit = pd.Series(digit, name='Label')\n",
        "image_id = pd.Series(range(1,28001),name='ImageId')\n",
        "image_id.isnull().sum()\n",
        "\n",
        "pred = pd.concat([image_id,digit],axis=1)\n",
        "pred.to_csv('submission.csv',index=False)\n",
        "\n",
        "#for i in range(9):\n",
        "#  # define subplot\n",
        "#  plt.subplot(330 + 1 + i)\n",
        "#  # plot raw pixel data\n",
        "#  test=np.array(test_df).reshape(-1,28,28)\n",
        "#  #print(test.shape)\n",
        "#  plt.imshow(test[i], cmap=plt.get_cmap('gray'))\n",
        "#  img =test[i].reshape(-1, 28, 28, 1)/255.0\n",
        "#  predict_value = model.predict(img)\n",
        "#  digit = argmax(predict_value)\n",
        "#  plt.title(digit)\n",
        "#  plt.axis(False)\n",
        "#  #plt.xlabel(print('recognised digit is',digit))"
      ],
      "metadata": {
        "id": "drwnP20VBP6V"
      },
      "execution_count": null,
      "outputs": []
    }
  ]
}